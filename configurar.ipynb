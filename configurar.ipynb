{
 "cells": [
  {
   "cell_type": "code",
   "execution_count": 11,
   "metadata": {},
   "outputs": [
    {
     "name": "stderr",
     "output_type": "stream",
     "text": [
      "usage: git config [<options>]\n",
      "\n",
      "Config file location\n",
      "    --[no-]global         use global config file\n",
      "    --[no-]system         use system config file\n",
      "    --[no-]local          use repository config file\n",
      "    --[no-]worktree       use per-worktree config file\n",
      "    -f, --[no-]file <file>\n",
      "                          use given config file\n",
      "    --[no-]blob <blob-id> read config from given blob object\n",
      "\n",
      "Action\n",
      "    --[no-]get            get value: name [value-pattern]\n",
      "    --[no-]get-all        get all values: key [value-pattern]\n",
      "    --[no-]get-regexp     get values for regexp: name-regex [value-pattern]\n",
      "    --[no-]get-urlmatch   get value specific for the URL: section[.var] URL\n",
      "    --[no-]replace-all    replace all matching variables: name value [value-pattern]\n",
      "    --[no-]add            add a new variable: name value\n",
      "    --[no-]unset          remove a variable: name [value-pattern]\n",
      "    --[no-]unset-all      remove all matches: name [value-pattern]\n",
      "    --[no-]rename-section rename section: old-name new-name\n",
      "    --[no-]remove-section remove a section: name\n",
      "    -l, --[no-]list       list all\n",
      "    --[no-]fixed-value    use string equality when comparing values to 'value-pattern'\n",
      "    -e, --[no-]edit       open an editor\n",
      "    --[no-]get-color      find the color configured: slot [default]\n",
      "    --[no-]get-colorbool  find the color setting: slot [stdout-is-tty]\n",
      "\n",
      "Type\n",
      "    -t, --[no-]type <type>\n",
      "                          value is given this type\n",
      "    --bool                value is \"true\" or \"false\"\n",
      "    --int                 value is decimal number\n",
      "    --bool-or-int         value is --bool or --int\n",
      "    --bool-or-str         value is --bool or string\n",
      "    --path                value is a path (file or directory name)\n",
      "    --expiry-date         value is an expiry date\n",
      "\n",
      "Other\n",
      "    -z, --[no-]null       terminate values with NUL byte\n",
      "    --[no-]name-only      show variable names only\n",
      "    --[no-]includes       respect include directives on lookup\n",
      "    --[no-]show-origin    show origin of config (file, standard input, blob, command line)\n",
      "    --[no-]show-scope     show scope of config (worktree, local, global, system, command)\n",
      "    --[no-]default <value>\n",
      "                          with --get, use default value when missing entry\n",
      "\n"
     ]
    }
   ],
   "source": [
    "!git config"
   ]
  },
  {
   "cell_type": "code",
   "execution_count": 2,
   "metadata": {},
   "outputs": [],
   "source": [
    "!git config --global user.name \"Diego\""
   ]
  },
  {
   "cell_type": "code",
   "execution_count": 9,
   "metadata": {},
   "outputs": [],
   "source": [
    "!git config --global user.email \"Diego.gonzalezh\""
   ]
  },
  {
   "cell_type": "code",
   "execution_count": 10,
   "metadata": {},
   "outputs": [
    {
     "name": "stderr",
     "output_type": "stream",
     "text": [
      "error: unknown option `core.editor'\n",
      "usage: git config [<options>]\n",
      "\n",
      "Config file location\n",
      "    --[no-]global         use global config file\n",
      "    --[no-]system         use system config file\n",
      "    --[no-]local          use repository config file\n",
      "    --[no-]worktree       use per-worktree config file\n",
      "    -f, --[no-]file <file>\n",
      "                          use given config file\n",
      "    --[no-]blob <blob-id> read config from given blob object\n",
      "\n",
      "Action\n",
      "    --[no-]get            get value: name [value-pattern]\n",
      "    --[no-]get-all        get all values: key [value-pattern]\n",
      "    --[no-]get-regexp     get values for regexp: name-regex [value-pattern]\n",
      "    --[no-]get-urlmatch   get value specific for the URL: section[.var] URL\n",
      "    --[no-]replace-all    replace all matching variables: name value [value-pattern]\n",
      "    --[no-]add            add a new variable: name value\n",
      "    --[no-]unset          remove a variable: name [value-pattern]\n",
      "    --[no-]unset-all      remove all matches: name [value-pattern]\n",
      "    --[no-]rename-section rename section: old-name new-name\n",
      "    --[no-]remove-section remove a section: name\n",
      "    -l, --[no-]list       list all\n",
      "    --[no-]fixed-value    use string equality when comparing values to 'value-pattern'\n",
      "    -e, --[no-]edit       open an editor\n",
      "    --[no-]get-color      find the color configured: slot [default]\n",
      "    --[no-]get-colorbool  find the color setting: slot [stdout-is-tty]\n",
      "\n",
      "Type\n",
      "    -t, --[no-]type <type>\n",
      "                          value is given this type\n",
      "    --bool                value is \"true\" or \"false\"\n",
      "    --int                 value is decimal number\n",
      "    --bool-or-int         value is --bool or --int\n",
      "    --bool-or-str         value is --bool or string\n",
      "    --path                value is a path (file or directory name)\n",
      "    --expiry-date         value is an expiry date\n",
      "\n",
      "Other\n",
      "    -z, --[no-]null       terminate values with NUL byte\n",
      "    --[no-]name-only      show variable names only\n",
      "    --[no-]includes       respect include directives on lookup\n",
      "    --[no-]show-origin    show origin of config (file, standard input, blob, command line)\n",
      "    --[no-]show-scope     show scope of config (worktree, local, global, system, command)\n",
      "    --[no-]default <value>\n",
      "                          with --get, use default value when missing entry\n",
      "\n"
     ]
    }
   ],
   "source": [
    "!git config --core.editor \"code_wait\""
   ]
  },
  {
   "cell_type": "code",
   "execution_count": 12,
   "metadata": {},
   "outputs": [],
   "source": [
    "!git config --global core.autocrlf True"
   ]
  },
  {
   "cell_type": "code",
   "execution_count": 13,
   "metadata": {},
   "outputs": [],
   "source": [
    "!git config --global -e"
   ]
  },
  {
   "cell_type": "code",
   "execution_count": 1,
   "metadata": {},
   "outputs": [
    {
     "name": "stdout",
     "output_type": "stream",
     "text": [
      "Initialized empty Git repository in C:/Users/Diego/Desktop/Dados/.git/\n"
     ]
    }
   ],
   "source": [
    "!git init"
   ]
  },
  {
   "cell_type": "code",
   "execution_count": 24,
   "metadata": {},
   "outputs": [
    {
     "name": "stdout",
     "output_type": "stream",
     "text": [
      "On branch master\n",
      "Changes not staged for commit:\n",
      "  (use \"git add <file>...\" to update what will be committed)\n",
      "  (use \"git restore <file>...\" to discard changes in working directory)\n",
      "\tmodified:   Dados.csv\n",
      "\tmodified:   configurar.ipynb\n",
      "\n",
      "no changes added to commit (use \"git add\" and/or \"git commit -a\")\n"
     ]
    }
   ],
   "source": [
    "!git status"
   ]
  },
  {
   "cell_type": "code",
   "execution_count": 16,
   "metadata": {},
   "outputs": [
    {
     "name": "stderr",
     "output_type": "stream",
     "text": [
      "warning: in the working copy of 'configurar.ipynb', LF will be replaced by CRLF the next time Git touches it\n"
     ]
    }
   ],
   "source": [
    "# Usando un punto son todos, pero si pones la extension solo se subiran los de esa extension ejm .txt\n",
    "# o agregar el nombre completo con extension hola.txt\n",
    "!git add ."
   ]
  },
  {
   "cell_type": "code",
   "execution_count": 25,
   "metadata": {},
   "outputs": [
    {
     "name": "stdout",
     "output_type": "stream",
     "text": [
      "On branch master\n",
      "Changes not staged for commit:\n",
      "  (use \"git add <file>...\" to update what will be committed)\n",
      "  (use \"git restore <file>...\" to discard changes in working directory)\n",
      "\tmodified:   Dados.csv\n",
      "\tmodified:   configurar.ipynb\n",
      "\n",
      "no changes added to commit (use \"git add\" and/or \"git commit -a\")\n"
     ]
    }
   ],
   "source": [
    "!git commit -m \"segunda prueba\""
   ]
  },
  {
   "cell_type": "code",
   "execution_count": 26,
   "metadata": {},
   "outputs": [
    {
     "name": "stdout",
     "output_type": "stream",
     "text": [
      "On branch master\n",
      "Changes not staged for commit:\n",
      "  (use \"git add <file>...\" to update what will be committed)\n",
      "  (use \"git restore <file>...\" to discard changes in working directory)\n",
      "\tmodified:   Dados.csv\n",
      "\tmodified:   configurar.ipynb\n",
      "\n",
      "no changes added to commit (use \"git add\" and/or \"git commit -a\")\n"
     ]
    }
   ],
   "source": [
    "!git commit"
   ]
  },
  {
   "cell_type": "code",
   "execution_count": 27,
   "metadata": {},
   "outputs": [
    {
     "name": "stdout",
     "output_type": "stream",
     "text": [
      "commit 9f255650a90381793ed14c4eae16985347d1ea44\n",
      "Author: Diego <Diego.gonzalezh>\n",
      "Date:   Wed Feb 7 13:00:50 2024 -0500\n",
      "\n",
      "    primera prueba\n"
     ]
    }
   ],
   "source": [
    "!git log"
   ]
  },
  {
   "cell_type": "code",
   "execution_count": 28,
   "metadata": {},
   "outputs": [
    {
     "name": "stdout",
     "output_type": "stream",
     "text": [
      "9f25565 primera prueba\n"
     ]
    }
   ],
   "source": [
    "!git log --oneline"
   ]
  },
  {
   "cell_type": "code",
   "execution_count": 29,
   "metadata": {},
   "outputs": [],
   "source": [
    "!git remote add origin https://github.com/Amlanis/Aprendizaje.git"
   ]
  },
  {
   "cell_type": "code",
   "execution_count": 32,
   "metadata": {},
   "outputs": [
    {
     "name": "stderr",
     "output_type": "stream",
     "text": [
      "error: src refspec main does not match any\n",
      "error: failed to push some refs to 'https://github.com/Amlanis/Aprendizaje.git'\n"
     ]
    }
   ],
   "source": [
    "!git push -u origin main"
   ]
  }
 ],
 "metadata": {
  "kernelspec": {
   "display_name": "base",
   "language": "python",
   "name": "python3"
  },
  "language_info": {
   "codemirror_mode": {
    "name": "ipython",
    "version": 3
   },
   "file_extension": ".py",
   "mimetype": "text/x-python",
   "name": "python",
   "nbconvert_exporter": "python",
   "pygments_lexer": "ipython3",
   "version": "3.9.13"
  }
 },
 "nbformat": 4,
 "nbformat_minor": 2
}
